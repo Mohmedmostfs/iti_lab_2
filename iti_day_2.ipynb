{
 "cells": [
  {
   "cell_type": "code",
   "execution_count": 13,
   "id": "79e1ca39",
   "metadata": {},
   "outputs": [
    {
     "name": "stdout",
     "output_type": "stream",
     "text": [
      "please enter string mohamed mostafa\n",
      "5\n",
      "9\n"
     ]
    }
   ],
   "source": [
    "def count_vowel(st):\n",
    "    vowel=0\n",
    "    x=0\n",
    "   \n",
    "    for i in st:\n",
    "       \n",
    "        if i == \" \":\n",
    "            \n",
    "            continue\n",
    "        elif i == \"a\" or i ==\"A\"or i ==\"o\"or i ==\"O\" or i ==\"u\"or i ==\"U\"or i ==\"y\"or i ==\"Y\"or i ==\"i\"or i ==\"I\":\n",
    "            \n",
    "            vowel+=1\n",
    "        else :\n",
    "            \n",
    "            x+=1 \n",
    "    return vowel,x\n",
    "st=input(\"please enter string \")\n",
    "vowel,x=count_vowel(st)\n",
    "print(vowel)\n",
    "print(x)"
   ]
  },
  {
   "cell_type": "code",
   "execution_count": 19,
   "id": "d707a67a",
   "metadata": {},
   "outputs": [
    {
     "name": "stdout",
     "output_type": "stream",
     "text": [
      "please enter string mohamed\n",
      "Mohamed\n"
     ]
    }
   ],
   "source": [
    "\n",
    "def capitalize_first(st):\n",
    "    st=st[0].upper()+st[1:]\n",
    "    return st\n",
    "st=input(\"please enter string \")\n",
    "st=capitalize_first(st)\n",
    "print(st)\n"
   ]
  },
  {
   "cell_type": "code",
   "execution_count": 20,
   "id": "09710c85",
   "metadata": {},
   "outputs": [
    {
     "name": "stdout",
     "output_type": "stream",
     "text": [
      "280\n"
     ]
    }
   ],
   "source": [
    "lst=[10 ,20,30,40,50,60,70]\n",
    "def sume(lest):\n",
    "    sam=0\n",
    "    for i in lest:\n",
    "        sam+=i\n",
    "    return sam\n",
    "print(sume(lst))"
   ]
  },
  {
   "cell_type": "code",
   "execution_count": 25,
   "id": "c2449c53",
   "metadata": {},
   "outputs": [
    {
     "name": "stdout",
     "output_type": "stream",
     "text": [
      "please enter string The quick Brow Fox\n",
      "No. of Upper case characters :  3\n",
      "No. of lower case characters :  12\n"
     ]
    }
   ],
   "source": [
    "def count_upper_or_lower(st):\n",
    "    upper=0\n",
    "    lower=0\n",
    "   \n",
    "    for i in st:\n",
    "       \n",
    "        if i == \" \":\n",
    "            \n",
    "            continue\n",
    "        elif i == i.upper():\n",
    "            \n",
    "            upper+=1\n",
    "        else :\n",
    "            \n",
    "            lower+=1 \n",
    "    return upper,lower\n",
    "st=input(\"please enter string \")\n",
    "u,l=count_upper_or_lower(st)\n",
    "print(\"No. of Upper case characters : \", u)\n",
    "print(\"No. of lower case characters : \", l)"
   ]
  },
  {
   "cell_type": "code",
   "execution_count": 10,
   "id": "81d1b08d",
   "metadata": {
    "scrolled": true
   },
   "outputs": [
    {
     "name": "stdout",
     "output_type": "stream",
     "text": [
      "pleas enter str drgr\n",
      "pleas enter list 40 5\n",
      "drgr\n",
      "['40', '5']\n",
      "45\n",
      "\"pleas enter operation \n",
      "           1.count_vowel\n",
      "           2.capitalize_first\n",
      "           3.sume\n",
      "           4.count_upper_or_lower\n",
      "       1\n",
      "drgr\n",
      "['40', '5']\n",
      "0\n",
      "4\n"
     ]
    }
   ],
   "source": [
    "class All_above_functions:\n",
    "    st=None\n",
    "    lest=None\n",
    "    def __init__(self,st,lest):\n",
    "        self.st=st\n",
    "        self.lest=lest\n",
    "    \n",
    "    \n",
    "    def count_vowel(self):\n",
    "        vowel=0\n",
    "        x=0\n",
    "       \n",
    "        for i in self.st:\n",
    "           \n",
    "            if i == \" \":\n",
    "                \n",
    "                continue\n",
    "            elif i == \"a\" or i ==\"A\"or i ==\"o\"or i ==\"O\" or i ==\"u\"or i ==\"U\"or i ==\"y\"or i ==\"Y\"or i ==\"i\"or i ==\"I\":\n",
    "                \n",
    "                vowel+=1\n",
    "            else :\n",
    "                \n",
    "                x+=1 \n",
    "        print(vowel)\n",
    "        print(x)\n",
    "    def capitalize_first(self):\n",
    "        x=self.st[0].upper()+self.st[1:]\n",
    "        print(x)\n",
    "    def sume(self):\n",
    "        sam=0\n",
    "        for i in self.lest:\n",
    "            sam=sam+int(i)\n",
    "        print(sam)\n",
    "    def count_upper_or_lower(self,st):\n",
    "        upper=0\n",
    "        lower=0\n",
    "       \n",
    "        for i in self.st:\n",
    "           \n",
    "            if i == \" \":\n",
    "                \n",
    "                continue\n",
    "            elif i == i.upper(self):\n",
    "                \n",
    "                upper+=1\n",
    "            else :\n",
    "                \n",
    "                lower+=1 \n",
    "        print(upper)\n",
    "        print(lower)\n",
    "\n",
    "st=input(\"pleas enter str \")\n",
    "lest=input(\"pleas enter list \").split()\n",
    "obj = All_above_functions(st, lest)\n",
    "\n",
    "opp= int(input(\"\"\"\"pleas enter operation \n",
    "           1.count_vowel\n",
    "           2.capitalize_first\n",
    "           3.sume\n",
    "           4.count_upper_or_lower\n",
    "       \"\"\"))\n",
    "if opp==1:\n",
    "     obj.count_vowel()\n",
    "elif opp==2:\n",
    "    obj.capitalize_first()\n",
    "elif opp==3:\n",
    "    obj.sume()\n",
    "elif opp==4:\n",
    "    obj.count_upper_or_lower()\n",
    "else :\n",
    "    print(\"select from this opration\")\n"
   ]
  },
  {
   "cell_type": "code",
   "execution_count": 12,
   "id": "5fc88c04",
   "metadata": {},
   "outputs": [
    {
     "name": "stdout",
     "output_type": "stream",
     "text": [
      "pleas enter lenth5\n",
      "pleas enter wheth10\n",
      "pleas enter opration\n",
      "              1.area\n",
      "              2.perimeter\n",
      "              1\n",
      "50\n"
     ]
    }
   ],
   "source": [
    "class Rectangle_class:\n",
    "    lenth=0\n",
    "    weth=0\n",
    "    def __init__(self,lenth,weth):\n",
    "        self.lenth=lenth\n",
    "        self.weth=weth\n",
    "    def area(self):\n",
    "        print(self.lenth*self.weth)\n",
    "    def perimeter(self):\n",
    "        print(2*(self.lenth+self.weth))\n",
    "l=int(input(\"pleas enter lenth\"))\n",
    "w=int(input(\"pleas enter wheth\"))\n",
    "obj=Rectangle_class(l,w)\n",
    "opp=int(input('''pleas enter opration\n",
    "              1.area\n",
    "              2.perimeter\n",
    "              '''))\n",
    "if opp==1:\n",
    "    obj.area()\n",
    "elif opp==2:\n",
    "    obj.perimeter()\n",
    "else:\n",
    "     print(\"select from this opration\")\n",
    "    "
   ]
  },
  {
   "cell_type": "code",
   "execution_count": null,
   "id": "34a05f52",
   "metadata": {},
   "outputs": [],
   "source": []
  },
  {
   "cell_type": "code",
   "execution_count": null,
   "id": "7f29e713",
   "metadata": {},
   "outputs": [],
   "source": []
  }
 ],
 "metadata": {
  "kernelspec": {
   "display_name": "Python 3 (ipykernel)",
   "language": "python",
   "name": "python3"
  },
  "language_info": {
   "codemirror_mode": {
    "name": "ipython",
    "version": 3
   },
   "file_extension": ".py",
   "mimetype": "text/x-python",
   "name": "python",
   "nbconvert_exporter": "python",
   "pygments_lexer": "ipython3",
   "version": "3.11.5"
  }
 },
 "nbformat": 4,
 "nbformat_minor": 5
}
